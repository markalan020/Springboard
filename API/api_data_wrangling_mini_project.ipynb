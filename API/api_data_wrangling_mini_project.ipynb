{
 "cells": [
  {
   "cell_type": "markdown",
   "metadata": {},
   "source": [
    "This exercise will require you to pull some data from the Qunadl API. Qaundl is currently the most widely used aggregator of financial market data."
   ]
  },
  {
   "cell_type": "markdown",
   "metadata": {},
   "source": [
    "As a first step, you will need to register a free account on the http://www.quandl.com website."
   ]
  },
  {
   "cell_type": "markdown",
   "metadata": {},
   "source": [
    "After you register, you will be provided with a unique API key, that you should store:"
   ]
  },
  {
   "cell_type": "code",
   "execution_count": 1,
   "metadata": {
    "collapsed": true
   },
   "outputs": [],
   "source": [
    "# Store the API key as a string - according to PEP8, constants are always named in all upper case\n",
    "API_KEY = ''"
   ]
  },
  {
   "cell_type": "markdown",
   "metadata": {},
   "source": [
    "Qaundl has a large number of data sources, but, unfortunately, most of them require a Premium subscription. Still, there are also a good number of free datasets."
   ]
  },
  {
   "cell_type": "markdown",
   "metadata": {},
   "source": [
    "For this mini project, we will focus on equities data from the Frankfurt Stock Exhange (FSE), which is available for free. We'll try and analyze the stock prices of a company called Carl Zeiss Meditec, which manufactures tools for eye examinations, as well as medical lasers for laser eye surgery: https://www.zeiss.com/meditec/int/home.html. The company is listed under the stock ticker AFX_X."
   ]
  },
  {
   "cell_type": "markdown",
   "metadata": {},
   "source": [
    "You can find the detailed Quandl API instructions here: https://docs.quandl.com/docs/time-series"
   ]
  },
  {
   "cell_type": "markdown",
   "metadata": {},
   "source": [
    "While there is a dedicated Python package for connecting to the Quandl API, we would prefer that you use the *requests* package, which can be easily downloaded using *pip* or *conda*. You can find the documentation for the package here: http://docs.python-requests.org/en/master/ "
   ]
  },
  {
   "cell_type": "markdown",
   "metadata": {},
   "source": [
    "Finally, apart from the *requests* package, you are encouraged to not use any third party Python packages, such as *pandas*, and instead focus on what's available in the Python Standard Library (the *collections* module might come in handy: https://pymotw.com/3/collections/ ).\n",
    "Also, since you won't have access to DataFrames, you are encouraged to us Python's native data structures - preferably dictionaries, though some questions can also be answered using lists.\n",
    "You can read more on these data structures here: https://docs.python.org/3/tutorial/datastructures.html"
   ]
  },
  {
   "cell_type": "markdown",
   "metadata": {},
   "source": [
    "Keep in mind that the JSON responses you will be getting from the API map almost one-to-one to Python's dictionaries. Unfortunately, they can be very nested, so make sure you read up on indexing dictionaries in the documentation provided above."
   ]
  },
  {
   "cell_type": "code",
   "execution_count": 2,
   "metadata": {
    "collapsed": true
   },
   "outputs": [],
   "source": [
    "# First, import the relevant modules\n",
    "import requests\n"
   ]
  },
  {
   "cell_type": "code",
   "execution_count": 15,
   "metadata": {
    "collapsed": true
   },
   "outputs": [],
   "source": [
    "# Now, call the Quandl API and pull out a small sample of the data (only one day) to get a glimpse\n",
    "# into the JSON structure that will be returned\n",
    "\n",
    "r = requests.get('https://www.quandl.com/api/v3/datasets/FSE/AFX_X/data.json',data={'limit':1,\n",
    "                'api_key':API_KEY})"
   ]
  },
  {
   "cell_type": "code",
   "execution_count": 16,
   "metadata": {
    "collapsed": true,
    "tags": []
   },
   "outputs": [
    {
     "output_type": "execute_result",
     "data": {
      "text/plain": "{'dataset_data': {'limit': 1,\n  'transform': None,\n  'column_index': None,\n  'column_names': ['Date',\n   'Open',\n   'High',\n   'Low',\n   'Close',\n   'Change',\n   'Traded Volume',\n   'Turnover',\n   'Last Price of the Day',\n   'Daily Traded Units',\n   'Daily Turnover'],\n  'start_date': '2000-06-07',\n  'end_date': '2020-09-22',\n  'frequency': 'daily',\n  'data': [['2020-09-22',\n    98.55,\n    101.1,\n    98.15,\n    100.3,\n    None,\n    150989.0,\n    15089380.4,\n    None,\n    None,\n    None]],\n  'collapse': None,\n  'order': None}}"
     },
     "metadata": {},
     "execution_count": 16
    }
   ],
   "source": [
    "# Inspect the JSON structure of the object you created, and take note of how nested it is,\n",
    "# as well as the overall structure\n",
    "r.json()"
   ]
  },
  {
   "cell_type": "markdown",
   "metadata": {},
   "source": [
    "These are your tasks for this mini project:\n",
    "\n",
    "1. Collect data from the Franfurt Stock Exchange, for the ticker AFX_X, for the whole year 2017 (keep in mind that the date format is YYYY-MM-DD).\n",
    "2. Convert the returned JSON object into a Python dictionary.\n",
    "3. Calculate what the highest and lowest opening prices were for the stock in this period.\n",
    "4. What was the largest change in any one day (based on High and Low price)?\n",
    "5. What was the largest change between any two days (based on Closing Price)?\n",
    "6. What was the average daily trading volume during this year?\n",
    "7. (Optional) What was the median trading volume during this year. (Note: you may need to implement your own function for calculating the median.)"
   ]
  },
  {
   "cell_type": "code",
   "execution_count": 32,
   "metadata": {
    "collapsed": true
   },
   "outputs": [],
   "source": [
    "r = requests.get('https://www.quandl.com/api/v3/datasets/FSE/AFX_X/data.json',data={'api_key':API_KEY,\n",
    "                'start_date':'2017-01-01',\n",
    "                'end_date':'2017-12-31'})"
   ]
  },
  {
   "cell_type": "code",
   "execution_count": 33,
   "metadata": {},
   "outputs": [],
   "source": [
    "ds = dict(r.json())"
   ]
  },
  {
   "cell_type": "code",
   "execution_count": 34,
   "metadata": {},
   "outputs": [
    {
     "output_type": "execute_result",
     "data": {
      "text/plain": "['Date',\n 'Open',\n 'High',\n 'Low',\n 'Close',\n 'Change',\n 'Traded Volume',\n 'Turnover',\n 'Last Price of the Day',\n 'Daily Traded Units',\n 'Daily Turnover']"
     },
     "metadata": {},
     "execution_count": 34
    }
   ],
   "source": [
    "ds['dataset_data']['column_names']"
   ]
  },
  {
   "cell_type": "code",
   "execution_count": 94,
   "metadata": {
    "tags": []
   },
   "outputs": [
    {
     "output_type": "stream",
     "name": "stdout",
     "text": "The min open price was 34.0 and the max was 53.11\nThe maximim change price was 2.81\nThe largest change between two day's closing price was 2.56\nThe average daily trading volume was 89124.34\nThe median daily trading volume was 76286.0\n"
    }
   ],
   "source": [
    "mins = None\n",
    "maxs = None\n",
    "max_change = None\n",
    "comp = None\n",
    "two_dif = 0\n",
    "vol=[]\n",
    "\n",
    "def find_median(l):\n",
    "    l = sorted(l)\n",
    "    if len(l)%2 != 0:\n",
    "        return l[len(l)//2]\n",
    "    else:\n",
    "        o = len(l)//2\n",
    "        t = o-1\n",
    "        return (l[o]+l[t])/2\n",
    "\n",
    "for row in ds['dataset_data']['data']:\n",
    "    o = row[1]\n",
    "    c = row[4]\n",
    "    h = row [2]\n",
    "    l = row [3]\n",
    "    v = row[6]\n",
    "    change = h-l\n",
    "    \n",
    "    #determine min opening price\n",
    "    if not mins or (o and o<mins): \n",
    "        mins = o\n",
    "    #determine max opening price\n",
    "    if not maxs or (o and o>maxs):\n",
    "        maxs = o\n",
    "    #determine maximum change from high to low\n",
    "    if not max_change or (change and change > max_change):\n",
    "        max_change=change\n",
    "    #determine largest change between two days closing price\n",
    "    if c and comp and abs(c-comp)>two_dif:\n",
    "        two_dif=abs(c-comp)\n",
    "    comp=c\n",
    "    #keep track of daily trading volume \n",
    "    vol.append(v)\n",
    "\n",
    "#determine average daily trading volume\n",
    "avg_vol = sum(vol)/len(vol)\n",
    "#what was median daily trading volume\n",
    "med_vol = find_median(vol)\n",
    "\n",
    "print(f'The min open price was {mins} and the max was {maxs}')\n",
    "print(f'The maximim change price was {round(max_change,2)}')\n",
    "print(f'The largest change between two day\\'s closing price was {round(two_dif,2)}')\n",
    "print(f'The average daily trading volume was {round(avg_vol,2)}')\n",
    "print(f'The median daily trading volume was {med_vol}')\n",
    "\n"
   ]
  }
 ],
 "metadata": {
  "kernelspec": {
   "display_name": "Python 3",
   "language": "python",
   "name": "python3"
  },
  "language_info": {
   "codemirror_mode": {
    "name": "ipython",
    "version": 2
   },
   "file_extension": ".py",
   "mimetype": "text/x-python",
   "name": "python",
   "nbconvert_exporter": "python",
   "pygments_lexer": "ipython2",
   "version": "3.7.6-final"
  }
 },
 "nbformat": 4,
 "nbformat_minor": 2
}
